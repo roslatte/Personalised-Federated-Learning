{
  "cells": [
    {
      "cell_type": "code",
      "execution_count": 53,
      "metadata": {
        "colab": {
          "base_uri": "https://localhost:8080/"
        },
        "id": "V22066Y9jEXL",
        "outputId": "226b3011-9b47-444b-990b-a1970e0d5885"
      },
      "outputs": [
        {
          "name": "stdout",
          "output_type": "stream",
          "text": [
            "Requirement already satisfied: tensorflow-privacy in /usr/local/lib/python3.10/dist-packages (0.9.0)\n",
            "Requirement already satisfied: absl-py==1.*,>=1.0 in /usr/local/lib/python3.10/dist-packages (from tensorflow-privacy) (1.4.0)\n",
            "Requirement already satisfied: dm-tree==0.1.8 in /usr/local/lib/python3.10/dist-packages (from tensorflow-privacy) (0.1.8)\n",
            "Requirement already satisfied: dp-accounting==0.4.3 in /usr/local/lib/python3.10/dist-packages (from tensorflow-privacy) (0.4.3)\n",
            "Requirement already satisfied: numpy~=1.21 in /usr/local/lib/python3.10/dist-packages (from tensorflow-privacy) (1.25.2)\n",
            "Requirement already satisfied: packaging~=22.0 in /usr/local/lib/python3.10/dist-packages (from tensorflow-privacy) (22.0)\n",
            "Requirement already satisfied: scikit-learn==1.*,>=1.0 in /usr/local/lib/python3.10/dist-packages (from tensorflow-privacy) (1.2.2)\n",
            "Requirement already satisfied: scipy~=1.9 in /usr/local/lib/python3.10/dist-packages (from tensorflow-privacy) (1.9.3)\n",
            "Requirement already satisfied: tensorflow-estimator~=2.4 in /usr/local/lib/python3.10/dist-packages (from tensorflow-privacy) (2.14.0)\n",
            "Requirement already satisfied: tensorflow-probability~=0.22.0 in /usr/local/lib/python3.10/dist-packages (from tensorflow-privacy) (0.22.1)\n",
            "Requirement already satisfied: tensorflow~=2.4 in /usr/local/lib/python3.10/dist-packages (from tensorflow-privacy) (2.14.1)\n",
            "Requirement already satisfied: attrs>=22 in /usr/local/lib/python3.10/dist-packages (from dp-accounting==0.4.3->tensorflow-privacy) (23.1.0)\n",
            "Requirement already satisfied: mpmath~=1.2 in /usr/local/lib/python3.10/dist-packages (from dp-accounting==0.4.3->tensorflow-privacy) (1.3.0)\n",
            "Requirement already satisfied: joblib>=1.1.1 in /usr/local/lib/python3.10/dist-packages (from scikit-learn==1.*,>=1.0->tensorflow-privacy) (1.4.0)\n",
            "Requirement already satisfied: threadpoolctl>=2.0.0 in /usr/local/lib/python3.10/dist-packages (from scikit-learn==1.*,>=1.0->tensorflow-privacy) (3.4.0)\n",
            "Requirement already satisfied: astunparse>=1.6.0 in /usr/local/lib/python3.10/dist-packages (from tensorflow~=2.4->tensorflow-privacy) (1.6.3)\n",
            "Requirement already satisfied: flatbuffers>=23.5.26 in /usr/local/lib/python3.10/dist-packages (from tensorflow~=2.4->tensorflow-privacy) (24.3.25)\n",
            "Requirement already satisfied: gast!=0.5.0,!=0.5.1,!=0.5.2,>=0.2.1 in /usr/local/lib/python3.10/dist-packages (from tensorflow~=2.4->tensorflow-privacy) (0.5.4)\n",
            "Requirement already satisfied: google-pasta>=0.1.1 in /usr/local/lib/python3.10/dist-packages (from tensorflow~=2.4->tensorflow-privacy) (0.2.0)\n",
            "Requirement already satisfied: h5py>=2.9.0 in /usr/local/lib/python3.10/dist-packages (from tensorflow~=2.4->tensorflow-privacy) (3.9.0)\n",
            "Requirement already satisfied: libclang>=13.0.0 in /usr/local/lib/python3.10/dist-packages (from tensorflow~=2.4->tensorflow-privacy) (18.1.1)\n",
            "Requirement already satisfied: ml-dtypes==0.2.0 in /usr/local/lib/python3.10/dist-packages (from tensorflow~=2.4->tensorflow-privacy) (0.2.0)\n",
            "Requirement already satisfied: opt-einsum>=2.3.2 in /usr/local/lib/python3.10/dist-packages (from tensorflow~=2.4->tensorflow-privacy) (3.3.0)\n",
            "Requirement already satisfied: protobuf!=4.21.0,!=4.21.1,!=4.21.2,!=4.21.3,!=4.21.4,!=4.21.5,<5.0.0dev,>=3.20.3 in /usr/local/lib/python3.10/dist-packages (from tensorflow~=2.4->tensorflow-privacy) (4.25.3)\n",
            "Requirement already satisfied: setuptools in /usr/local/lib/python3.10/dist-packages (from tensorflow~=2.4->tensorflow-privacy) (67.7.2)\n",
            "Requirement already satisfied: six>=1.12.0 in /usr/local/lib/python3.10/dist-packages (from tensorflow~=2.4->tensorflow-privacy) (1.16.0)\n",
            "Requirement already satisfied: termcolor>=1.1.0 in /usr/local/lib/python3.10/dist-packages (from tensorflow~=2.4->tensorflow-privacy) (2.4.0)\n",
            "Requirement already satisfied: typing-extensions>=3.6.6 in /usr/local/lib/python3.10/dist-packages (from tensorflow~=2.4->tensorflow-privacy) (4.5.0)\n",
            "Requirement already satisfied: wrapt<1.15,>=1.11.0 in /usr/local/lib/python3.10/dist-packages (from tensorflow~=2.4->tensorflow-privacy) (1.14.1)\n",
            "Requirement already satisfied: tensorflow-io-gcs-filesystem>=0.23.1 in /usr/local/lib/python3.10/dist-packages (from tensorflow~=2.4->tensorflow-privacy) (0.36.0)\n",
            "Requirement already satisfied: grpcio<2.0,>=1.24.3 in /usr/local/lib/python3.10/dist-packages (from tensorflow~=2.4->tensorflow-privacy) (1.62.1)\n",
            "Requirement already satisfied: tensorboard<2.15,>=2.14 in /usr/local/lib/python3.10/dist-packages (from tensorflow~=2.4->tensorflow-privacy) (2.14.1)\n",
            "Requirement already satisfied: keras<2.15,>=2.14.0 in /usr/local/lib/python3.10/dist-packages (from tensorflow~=2.4->tensorflow-privacy) (2.14.0)\n",
            "Requirement already satisfied: decorator in /usr/local/lib/python3.10/dist-packages (from tensorflow-probability~=0.22.0->tensorflow-privacy) (4.4.2)\n",
            "Requirement already satisfied: cloudpickle>=1.3 in /usr/local/lib/python3.10/dist-packages (from tensorflow-probability~=0.22.0->tensorflow-privacy) (2.2.1)\n",
            "Requirement already satisfied: wheel<1.0,>=0.23.0 in /usr/local/lib/python3.10/dist-packages (from astunparse>=1.6.0->tensorflow~=2.4->tensorflow-privacy) (0.43.0)\n",
            "Requirement already satisfied: google-auth<3,>=1.6.3 in /usr/local/lib/python3.10/dist-packages (from tensorboard<2.15,>=2.14->tensorflow~=2.4->tensorflow-privacy) (2.27.0)\n",
            "Requirement already satisfied: google-auth-oauthlib<1.1,>=0.5 in /usr/local/lib/python3.10/dist-packages (from tensorboard<2.15,>=2.14->tensorflow~=2.4->tensorflow-privacy) (1.0.0)\n",
            "Requirement already satisfied: markdown>=2.6.8 in /usr/local/lib/python3.10/dist-packages (from tensorboard<2.15,>=2.14->tensorflow~=2.4->tensorflow-privacy) (3.6)\n",
            "Requirement already satisfied: requests<3,>=2.21.0 in /usr/local/lib/python3.10/dist-packages (from tensorboard<2.15,>=2.14->tensorflow~=2.4->tensorflow-privacy) (2.31.0)\n",
            "Requirement already satisfied: tensorboard-data-server<0.8.0,>=0.7.0 in /usr/local/lib/python3.10/dist-packages (from tensorboard<2.15,>=2.14->tensorflow~=2.4->tensorflow-privacy) (0.7.2)\n",
            "Requirement already satisfied: werkzeug>=1.0.1 in /usr/local/lib/python3.10/dist-packages (from tensorboard<2.15,>=2.14->tensorflow~=2.4->tensorflow-privacy) (3.0.2)\n",
            "Requirement already satisfied: cachetools<6.0,>=2.0.0 in /usr/local/lib/python3.10/dist-packages (from google-auth<3,>=1.6.3->tensorboard<2.15,>=2.14->tensorflow~=2.4->tensorflow-privacy) (5.3.3)\n",
            "Requirement already satisfied: pyasn1-modules>=0.2.1 in /usr/local/lib/python3.10/dist-packages (from google-auth<3,>=1.6.3->tensorboard<2.15,>=2.14->tensorflow~=2.4->tensorflow-privacy) (0.4.0)\n",
            "Requirement already satisfied: rsa<5,>=3.1.4 in /usr/local/lib/python3.10/dist-packages (from google-auth<3,>=1.6.3->tensorboard<2.15,>=2.14->tensorflow~=2.4->tensorflow-privacy) (4.9)\n",
            "Requirement already satisfied: requests-oauthlib>=0.7.0 in /usr/local/lib/python3.10/dist-packages (from google-auth-oauthlib<1.1,>=0.5->tensorboard<2.15,>=2.14->tensorflow~=2.4->tensorflow-privacy) (1.3.1)\n",
            "Requirement already satisfied: charset-normalizer<4,>=2 in /usr/local/lib/python3.10/dist-packages (from requests<3,>=2.21.0->tensorboard<2.15,>=2.14->tensorflow~=2.4->tensorflow-privacy) (3.3.2)\n",
            "Requirement already satisfied: idna<4,>=2.5 in /usr/local/lib/python3.10/dist-packages (from requests<3,>=2.21.0->tensorboard<2.15,>=2.14->tensorflow~=2.4->tensorflow-privacy) (3.6)\n",
            "Requirement already satisfied: urllib3<3,>=1.21.1 in /usr/local/lib/python3.10/dist-packages (from requests<3,>=2.21.0->tensorboard<2.15,>=2.14->tensorflow~=2.4->tensorflow-privacy) (2.0.7)\n",
            "Requirement already satisfied: certifi>=2017.4.17 in /usr/local/lib/python3.10/dist-packages (from requests<3,>=2.21.0->tensorboard<2.15,>=2.14->tensorflow~=2.4->tensorflow-privacy) (2024.2.2)\n",
            "Requirement already satisfied: MarkupSafe>=2.1.1 in /usr/local/lib/python3.10/dist-packages (from werkzeug>=1.0.1->tensorboard<2.15,>=2.14->tensorflow~=2.4->tensorflow-privacy) (2.1.5)\n",
            "Requirement already satisfied: pyasn1<0.7.0,>=0.4.6 in /usr/local/lib/python3.10/dist-packages (from pyasn1-modules>=0.2.1->google-auth<3,>=1.6.3->tensorboard<2.15,>=2.14->tensorflow~=2.4->tensorflow-privacy) (0.6.0)\n",
            "Requirement already satisfied: oauthlib>=3.0.0 in /usr/local/lib/python3.10/dist-packages (from requests-oauthlib>=0.7.0->google-auth-oauthlib<1.1,>=0.5->tensorboard<2.15,>=2.14->tensorflow~=2.4->tensorflow-privacy) (3.2.2)\n"
          ]
        }
      ],
      "source": [
        "! pip install --quiet --upgrade tensorflow-federated\n",
        "#! pip install --quiet --upgrade aif360\n",
        "! pip install tensorflow-privacy\n",
        "\n",
        "#! pip install --upgrade scipy"
      ]
    },
    {
      "cell_type": "code",
      "execution_count": 54,
      "metadata": {
        "colab": {
          "base_uri": "https://localhost:8080/"
        },
        "id": "QctIeqiRXypA",
        "outputId": "7e26eaef-6afc-4b84-eebd-d25482468e3b"
      },
      "outputs": [
        {
          "name": "stdout",
          "output_type": "stream",
          "text": [
            "The tensorboard extension is already loaded. To reload it, use:\n",
            "  %reload_ext tensorboard\n"
          ]
        },
        {
          "data": {
            "text/plain": [
              "b'Hello, World!'"
            ]
          },
          "execution_count": 54,
          "metadata": {},
          "output_type": "execute_result"
        }
      ],
      "source": [
        "import numpy as np\n",
        "import pandas as pd\n",
        "import requests\n",
        "import collections\n",
        "import tensorflow as tf\n",
        "import tensorflow_federated as tff\n",
        "import tensorflow_privacy as tfp\n",
        "from sklearn.preprocessing import OneHotEncoder, LabelEncoder, StandardScaler\n",
        "#from aif360.algorithms.preprocessing import Reweighing\n",
        "import matplotlib.pyplot as plt\n",
        "%matplotlib inline\n",
        "%load_ext tensorboard\n",
        "\n",
        "np.random.seed(0)\n",
        "\n",
        "tff.federated_computation(lambda: 'Hello, World!')()"
      ]
    },
    {
      "cell_type": "code",
      "execution_count": 55,
      "metadata": {
        "id": "CcbluP_mkCIV"
      },
      "outputs": [],
      "source": [
        "# list of column names\n",
        "column_names = (\n",
        "    (\"age\"),\n",
        "    (\"workclass\"),\n",
        "    (\"fnlwgt\"),\n",
        "    (\"education\"),\n",
        "    (\"education-num\"),\n",
        "    (\"marital-status\"),\n",
        "    (\"occupation\"),\n",
        "    (\"relationship\"),\n",
        "    (\"race\"),\n",
        "    (\"sex\"),\n",
        "    (\"capital-gain\"),\n",
        "    (\"capital-loss\"),\n",
        "    (\"hours-per-week\"),\n",
        "    (\"native-country\"),\n",
        "    (\"salary\")\n",
        ")\n",
        "categorical_features = ['workclass', 'marital-status',\n",
        "                        'occupation', 'relationship', 'race', 'native-country']\n",
        "continuous_features = ['age', 'fnlwgt', 'education-num', 'capital-gain',\n",
        "                       'capital-loss', 'hours-per-week']"
      ]
    },
    {
      "cell_type": "code",
      "execution_count": 56,
      "metadata": {
        "colab": {
          "base_uri": "https://localhost:8080/"
        },
        "id": "OVUq228JX4CF",
        "outputId": "0bc8419f-6e62-4860-b3d8-d11431506816"
      },
      "outputs": [
        {
          "name": "stdout",
          "output_type": "stream",
          "text": [
            "  age          workclass   fnlwgt   education education-num  \\\n",
            "0  39          State-gov    77516   Bachelors            13   \n",
            "1  50   Self-emp-not-inc    83311   Bachelors            13   \n",
            "2  38            Private   215646     HS-grad             9   \n",
            "3  53            Private   234721        11th             7   \n",
            "4  28            Private   338409   Bachelors            13   \n",
            "\n",
            "        marital-status          occupation    relationship    race      sex  \\\n",
            "0        Never-married        Adm-clerical   Not-in-family   White     Male   \n",
            "1   Married-civ-spouse     Exec-managerial         Husband   White     Male   \n",
            "2             Divorced   Handlers-cleaners   Not-in-family   White     Male   \n",
            "3   Married-civ-spouse   Handlers-cleaners         Husband   Black     Male   \n",
            "4   Married-civ-spouse      Prof-specialty            Wife   Black   Female   \n",
            "\n",
            "  capital-gain capital-loss hours-per-week  native-country  salary  \n",
            "0         2174            0             40   United-States   <=50K  \n",
            "1            0            0             13   United-States   <=50K  \n",
            "2            0            0             40   United-States   <=50K  \n",
            "3            0            0             40   United-States   <=50K  \n",
            "4            0            0             40            Cuba   <=50K  \n",
            "32561\n",
            "age               object\n",
            "workclass         object\n",
            "fnlwgt            object\n",
            "education         object\n",
            "education-num     object\n",
            "marital-status    object\n",
            "occupation        object\n",
            "relationship      object\n",
            "race              object\n",
            "sex               object\n",
            "capital-gain      object\n",
            "capital-loss      object\n",
            "hours-per-week    object\n",
            "native-country    object\n",
            "salary            object\n",
            "dtype: object\n"
          ]
        }
      ],
      "source": [
        "# Get the raw training data\n",
        "data_url = \"https://archive.ics.uci.edu/ml/machine-learning-databases/adult/adult.data\"\n",
        "data_response = requests.get(data_url)\n",
        "\n",
        "# Process the raw text into lines\n",
        "data_lines = data_response.text.splitlines()\n",
        "\n",
        "# Create a Pandas DataFrame\n",
        "df = pd.DataFrame([line.split(\",\") for line in data_lines])\n",
        "df.columns = column_names\n",
        "\n",
        "# Handle missing values (replace '?' with appropriate values - e.g., NaN)\n",
        "df.replace('?', pd.NA, inplace=True)\n",
        "df.dropna(inplace=True)\n",
        "\n",
        "# Drop unnecessary column\n",
        "df.drop(columns=['education'])\n",
        "\n",
        "# Print the head of the DataFrame\n",
        "print(df.head())\n",
        "print(len(df))\n",
        "print(df.dtypes)"
      ]
    },
    {
      "cell_type": "code",
      "execution_count": 57,
      "metadata": {
        "colab": {
          "base_uri": "https://localhost:8080/"
        },
        "id": "sg-o8oL64TPQ",
        "outputId": "761448d0-84cf-4c79-c7eb-6cdda53b7a17"
      },
      "outputs": [
        {
          "name": "stdout",
          "output_type": "stream",
          "text": [
            "  age   workclass   fnlwgt      education education-num       marital-status  \\\n",
            "1  25     Private   226802           11th             7        Never-married   \n",
            "2  38     Private    89814        HS-grad             9   Married-civ-spouse   \n",
            "3  28   Local-gov   336951     Assoc-acdm            12   Married-civ-spouse   \n",
            "4  44     Private   160323   Some-college            10   Married-civ-spouse   \n",
            "5  18           ?   103497   Some-college            10        Never-married   \n",
            "\n",
            "           occupation relationship    race      sex capital-gain capital-loss  \\\n",
            "1   Machine-op-inspct    Own-child   Black     Male            0            0   \n",
            "2     Farming-fishing      Husband   White     Male            0            0   \n",
            "3     Protective-serv      Husband   White     Male            0            0   \n",
            "4   Machine-op-inspct      Husband   Black     Male         7688            0   \n",
            "5                   ?    Own-child   White   Female            0            0   \n",
            "\n",
            "  hours-per-week  native-country  salary  \n",
            "1             40   United-States   <=50K  \n",
            "2             50   United-States   <=50K  \n",
            "3             40   United-States    >50K  \n",
            "4             40   United-States    >50K  \n",
            "5             30   United-States   <=50K  \n",
            "16281\n",
            "age               object\n",
            "workclass         object\n",
            "fnlwgt            object\n",
            "education         object\n",
            "education-num     object\n",
            "marital-status    object\n",
            "occupation        object\n",
            "relationship      object\n",
            "race              object\n",
            "sex               object\n",
            "capital-gain      object\n",
            "capital-loss      object\n",
            "hours-per-week    object\n",
            "native-country    object\n",
            "salary            object\n",
            "dtype: object\n"
          ]
        }
      ],
      "source": [
        "# Get the raw test data\n",
        "data_url = \"https://archive.ics.uci.edu/ml/machine-learning-databases/adult/adult.test\"\n",
        "data_response = requests.get(data_url)\n",
        "\n",
        "# Process the raw text into lines\n",
        "data_lines = data_response.text.splitlines()\n",
        "\n",
        "# Create a Pandas DataFrame\n",
        "df_test = pd.DataFrame([line.split(\",\") for line in data_lines])\n",
        "df_test.columns = column_names\n",
        "\n",
        "# Handle missing values (replace '?' with appropriate values - e.g., NaN)\n",
        "df_test.replace('?', pd.NA, inplace=True)\n",
        "df_test.dropna(inplace=True)\n",
        "df_test['salary'] = df_test['salary'].str.rstrip('.')\n",
        "\n",
        "# Drop unnecessary column\n",
        "df_test.drop(columns=['education'])\n",
        "\n",
        "# Print the head of the DataFrame\n",
        "print(df_test.head())\n",
        "print(len(df_test))\n",
        "print(df_test.dtypes)"
      ]
    },
    {
      "cell_type": "code",
      "execution_count": 58,
      "metadata": {
        "colab": {
          "base_uri": "https://localhost:8080/"
        },
        "id": "V0InDanDU_N6",
        "outputId": "87287ba4-ace6-410d-fd73-40ced83c720b"
      },
      "outputs": [
        {
          "name": "stderr",
          "output_type": "stream",
          "text": [
            "/usr/local/lib/python3.10/dist-packages/sklearn/preprocessing/_encoders.py:868: FutureWarning: `sparse` was renamed to `sparse_output` in version 1.2 and will be removed in 1.4. `sparse_output` is ignored unless you leave `sparse` to its default value.\n",
            "  warnings.warn(\n"
          ]
        },
        {
          "name": "stdout",
          "output_type": "stream",
          "text": [
            "workclass_ ?               float64\n",
            "workclass_ Federal-gov     float64\n",
            "workclass_ Local-gov       float64\n",
            "workclass_ Never-worked    float64\n",
            "workclass_ Private         float64\n",
            "                            ...   \n",
            "capital-gain               float64\n",
            "capital-loss               float64\n",
            "hours-per-week             float64\n",
            "sex                           int8\n",
            "salary                        int8\n",
            "Length: 92, dtype: object\n"
          ]
        }
      ],
      "source": [
        "# General data preprocessing\n",
        "encoder = OneHotEncoder(handle_unknown='ignore', sparse=False)\n",
        "encoded_data = encoder.fit_transform(df[categorical_features])\n",
        "sex_labels = list(df.sex.astype('category').unique())\n",
        "sex_codes = list(df.sex.astype('category').cat.codes.unique())\n",
        "sex_mapping = {sex_codes[i] : sex_labels[i] for i in range(len(sex_labels))}\n",
        "salary_labels = list(df.salary.astype('category').unique())\n",
        "salary_codes = list(df.salary.astype('category').cat.codes.unique())\n",
        "mapping = {salary_codes[i] : salary_labels[i] for i in range(len(salary_labels))}\n",
        "\n",
        "# Create new column names\n",
        "new_column_names = encoder.get_feature_names_out(categorical_features)\n",
        "\n",
        "# Convert encoded data to a new DataFrame\n",
        "df_encoded = pd.DataFrame(encoded_data, columns=new_column_names)\n",
        "\n",
        "# Combine with continuous and binary features\n",
        "df_pre = pd.concat([df_encoded, df[continuous_features], df[\"sex\"], df[\"salary\"]], axis=1)\n",
        "\n",
        "# Scale continuous features and encode binary features (may remove for privacy later)\n",
        "df_pre[continuous_features] = df_pre[continuous_features].astype(int)\n",
        "df_pre[\"sex\"] = df_pre[\"sex\"].replace(sex_labels, sex_codes)\n",
        "scaler = StandardScaler()\n",
        "df_pre[continuous_features] = scaler.fit_transform(df_pre[continuous_features])\n",
        "df_pre[\"salary\"] = df_pre[\"salary\"].replace(salary_labels, salary_codes)\n",
        "print(df_pre.dtypes)"
      ]
    },
    {
      "cell_type": "code",
      "execution_count": 59,
      "metadata": {
        "colab": {
          "base_uri": "https://localhost:8080/"
        },
        "id": "JgaEnVe54G1D",
        "outputId": "51c97102-dfe5-4418-a357-e44cad9eae3e"
      },
      "outputs": [
        {
          "name": "stdout",
          "output_type": "stream",
          "text": [
            "workclass_ ?               float64\n",
            "workclass_ Federal-gov     float64\n",
            "workclass_ Local-gov       float64\n",
            "workclass_ Never-worked    float64\n",
            "workclass_ Private         float64\n",
            "                            ...   \n",
            "capital-gain               float64\n",
            "capital-loss               float64\n",
            "hours-per-week             float64\n",
            "sex                        float64\n",
            "salary                     float64\n",
            "Length: 92, dtype: object\n"
          ]
        }
      ],
      "source": [
        "# Test data preprocessing\n",
        "# One-Hot Encoding\n",
        "encoded_test_data = encoder.transform(df_test[categorical_features])\n",
        "df_test_encoded = pd.DataFrame(encoded_data, columns=new_column_names)\n",
        "# Label Encoding\n",
        "df_test[\"sex\"] = df_test[\"sex\"].replace(sex_labels, sex_codes)\n",
        "df_test[\"salary\"] = df_test[\"salary\"].replace(salary_labels, salary_codes)\n",
        "\n",
        "# Scaling\n",
        "df_test[continuous_features] = scaler.transform(df_test[continuous_features])\n",
        "\n",
        "# Concatenate features in the same order as your training set\n",
        "df_test_pre = pd.concat([df_test_encoded, df_test[continuous_features], df_test[\"sex\"], df_test[\"salary\"]], axis=1)\n",
        "\n",
        "print(df_test_pre.dtypes)\n"
      ]
    },
    {
      "cell_type": "code",
      "execution_count": 60,
      "metadata": {
        "colab": {
          "base_uri": "https://localhost:8080/"
        },
        "id": "VuD7rTgfDQwd",
        "outputId": "e84d6d55-9e18-4734-c43b-b48fe0f80bf6"
      },
      "outputs": [
        {
          "data": {
            "text/plain": [
              "{0: ' <=50K', 1: ' >50K'}"
            ]
          },
          "execution_count": 60,
          "metadata": {},
          "output_type": "execute_result"
        }
      ],
      "source": [
        "mapping"
      ]
    },
    {
      "cell_type": "code",
      "execution_count": 61,
      "metadata": {
        "colab": {
          "base_uri": "https://localhost:8080/"
        },
        "id": "eXoxbcnbvRET",
        "outputId": "f9fd8e21-50ba-4051-9508-9c70c157041e"
      },
      "outputs": [
        {
          "data": {
            "text/plain": [
              "{1: ' Male', 0: ' Female'}"
            ]
          },
          "execution_count": 61,
          "metadata": {},
          "output_type": "execute_result"
        }
      ],
      "source": [
        "sex_mapping"
      ]
    },
    {
      "cell_type": "code",
      "execution_count": 62,
      "metadata": {
        "id": "Wg2qEg1ND7kf"
      },
      "outputs": [],
      "source": [
        "n_workers = 10\n",
        "n_epochs = 10\n",
        "shuffle_buffer_size = df_pre.shape[0]\n",
        "batch_size = 100\n",
        "prefetch_buffer_size = 25\n",
        "input_shape = df_pre.shape[1] - 1\n",
        "output_shape = len(salary_codes)\n",
        "l2_norm_clip = 1.0\n",
        "noise_multiplier = 1.5\n",
        "\n",
        "n_samples = int(df_pre.shape[0] / n_workers)\n",
        "assert n_samples > 0, \"Each worker must be assigned at least one data point\""
      ]
    },
    {
      "cell_type": "code",
      "execution_count": 63,
      "metadata": {
        "id": "GgaXNGZb96qm"
      },
      "outputs": [],
      "source": [
        "def preprocess(dataframe):\n",
        "\n",
        "    \"\"\"Flatten a batch `pixels` and return the features as an `OrderedDict`.\"\"\"\n",
        "    def map_fn(dataset):\n",
        "        return collections.OrderedDict(\n",
        "            x=tf.cast(dataset[:,:-1], tf.float64),\n",
        "            y=tf.cast(tf.reshape(dataset[:,-1], shape=(-1, 1)), tf.int64)\n",
        "        )\n",
        "\n",
        "    return tf.data.Dataset.from_tensor_slices(dataframe).repeat(n_epochs).shuffle(\n",
        "        shuffle_buffer_size).batch(batch_size).map(map_fn).prefetch(prefetch_buffer_size)\n",
        "\n",
        "\n",
        "client_data = [preprocess(df_pre) for _ in range(n_workers)]"
      ]
    },
    {
      "cell_type": "code",
      "execution_count": 64,
      "metadata": {
        "id": "X-N9Iqm4sWMe"
      },
      "outputs": [],
      "source": [
        "def calculate_reweighing_weights(dataframe, sensitive_attr, target_attr):\n",
        "    groups = dataframe.groupby([sensitive_attr, target_attr]).size().unstack(fill_value=0)\n",
        "    marginal_target = groups.sum(axis=0)  # Count of each target class\n",
        "    marginal_sensitive = groups.sum(axis=1)  # Count of each sensitive group\n",
        "    total = groups.sum().sum()\n",
        "\n",
        "    weights = total / (marginal_target * marginal_sensitive)\n",
        "\n",
        "    # Map weights back to dataframe\n",
        "    return dataframe.apply(lambda row: weights.loc[row[sensitive_attr], row[target_attr]], axis=1)\n",
        "\n",
        "def RW_preprocess(dataframe):\n",
        "    # Apply Reweighing for bias mitigation\n",
        "    weights = calculate_reweighing_weights(dataframe, 'sex', 'salary')\n",
        "\n",
        "    def map_fn(dataset):\n",
        "        features = collections.OrderedDict(\n",
        "            x=tf.cast(dataset[:, :-1], tf.float64),\n",
        "            y=tf.cast(tf.reshape(dataset[:, -1], shape=(-1, 1)), tf.int64),\n",
        "            sample_weights=weights\n",
        "        )\n",
        "        return features\n",
        "\n",
        "    return tf.data.Dataset.from_tensor_slices(dataframe).repeat(n_epochs).shuffle(\n",
        "        shuffle_buffer_size).batch(batch_size).map(map_fn).prefetch(prefetch_buffer_size)\n",
        "\n",
        "\n",
        "RW_client_data = [preprocess(df_pre) for _ in range(n_workers)]"
      ]
    },
    {
      "cell_type": "code",
      "execution_count": 65,
      "metadata": {
        "colab": {
          "base_uri": "https://localhost:8080/"
        },
        "id": "JZwCL1Kk2_jq",
        "outputId": "5bd57c69-c8d3-42d6-ba7d-dac708299424"
      },
      "outputs": [
        {
          "data": {
            "text/plain": [
              "[<_PrefetchDataset element_spec=OrderedDict([('x', TensorSpec(shape=(None, 91), dtype=tf.float64, name=None)), ('y', TensorSpec(shape=(None, 1), dtype=tf.int64, name=None))])>,\n",
              " <_PrefetchDataset element_spec=OrderedDict([('x', TensorSpec(shape=(None, 91), dtype=tf.float64, name=None)), ('y', TensorSpec(shape=(None, 1), dtype=tf.int64, name=None))])>,\n",
              " <_PrefetchDataset element_spec=OrderedDict([('x', TensorSpec(shape=(None, 91), dtype=tf.float64, name=None)), ('y', TensorSpec(shape=(None, 1), dtype=tf.int64, name=None))])>,\n",
              " <_PrefetchDataset element_spec=OrderedDict([('x', TensorSpec(shape=(None, 91), dtype=tf.float64, name=None)), ('y', TensorSpec(shape=(None, 1), dtype=tf.int64, name=None))])>,\n",
              " <_PrefetchDataset element_spec=OrderedDict([('x', TensorSpec(shape=(None, 91), dtype=tf.float64, name=None)), ('y', TensorSpec(shape=(None, 1), dtype=tf.int64, name=None))])>,\n",
              " <_PrefetchDataset element_spec=OrderedDict([('x', TensorSpec(shape=(None, 91), dtype=tf.float64, name=None)), ('y', TensorSpec(shape=(None, 1), dtype=tf.int64, name=None))])>,\n",
              " <_PrefetchDataset element_spec=OrderedDict([('x', TensorSpec(shape=(None, 91), dtype=tf.float64, name=None)), ('y', TensorSpec(shape=(None, 1), dtype=tf.int64, name=None))])>,\n",
              " <_PrefetchDataset element_spec=OrderedDict([('x', TensorSpec(shape=(None, 91), dtype=tf.float64, name=None)), ('y', TensorSpec(shape=(None, 1), dtype=tf.int64, name=None))])>,\n",
              " <_PrefetchDataset element_spec=OrderedDict([('x', TensorSpec(shape=(None, 91), dtype=tf.float64, name=None)), ('y', TensorSpec(shape=(None, 1), dtype=tf.int64, name=None))])>,\n",
              " <_PrefetchDataset element_spec=OrderedDict([('x', TensorSpec(shape=(None, 91), dtype=tf.float64, name=None)), ('y', TensorSpec(shape=(None, 1), dtype=tf.int64, name=None))])>]"
            ]
          },
          "execution_count": 65,
          "metadata": {},
          "output_type": "execute_result"
        }
      ],
      "source": [
        "client_data"
      ]
    },
    {
      "cell_type": "code",
      "execution_count": 66,
      "metadata": {
        "colab": {
          "base_uri": "https://localhost:8080/"
        },
        "id": "jDONkgZi8LTL",
        "outputId": "4bc390e5-bf22-412c-a145-3d70e4dd0ac7"
      },
      "outputs": [
        {
          "name": "stdout",
          "output_type": "stream",
          "text": [
            "Worker 1 data contains 3257 training points\n",
            "Worker 2 data contains 3257 training points\n",
            "Worker 3 data contains 3257 training points\n",
            "Worker 4 data contains 3257 training points\n",
            "Worker 5 data contains 3257 training points\n",
            "Worker 6 data contains 3257 training points\n",
            "Worker 7 data contains 3257 training points\n",
            "Worker 8 data contains 3257 training points\n",
            "Worker 9 data contains 3257 training points\n",
            "Worker 10 data contains 3257 training points\n"
          ]
        }
      ],
      "source": [
        "for i in range(n_workers):\n",
        "    print(f\"Worker {i+1} data contains {len(client_data[i])} training points\")"
      ]
    },
    {
      "cell_type": "code",
      "execution_count": 67,
      "metadata": {
        "colab": {
          "base_uri": "https://localhost:8080/",
          "height": 689
        },
        "id": "UyGNFzotlvPr",
        "outputId": "0dafdedd-8354-45a5-b34a-9520340b4639"
      },
      "outputs": [
        {
          "data": {
            "image/png": "[encoded data removed]",
            "text/plain": [
              "<Figure size 2000x700 with 10 Axes>"
            ]
          },
          "metadata": {},
          "output_type": "display_data"
        }
      ],
      "source": [
        "# Number of examples per layer for a sample of clients\n",
        "fig = plt.figure(figsize=(20, 7))\n",
        "fig.suptitle('Salary Distribution for each Client')\n",
        "fig.tight_layout()\n",
        "\n",
        "for i in range(n_workers):\n",
        "    m = 0\n",
        "    plot_data = collections.defaultdict(list)\n",
        "    for label in list(client_data[i])[0]['y'].numpy()[:,0]:\n",
        "        # Append counts individually per label to make plots\n",
        "        # more colorful instead of one color per plot.\n",
        "        plot_data[label].append(label)\n",
        "        m = max(m, len(plot_data[label]))\n",
        "\n",
        "    n_cols = n_workers if n_workers < 5 else 5\n",
        "    #xlim = [0, m+(10-m%10)]\n",
        "    xlim = [0, 100]\n",
        "    ylim = [min(salary_codes)-1, max(salary_codes)+1]\n",
        "    yticks = list(range(min(salary_codes), max(salary_codes)+1))\n",
        "    yticks_labels = [mapping[k] for k in range(0, max(salary_codes)+1)]\n",
        "\n",
        "    plt.subplot(int(n_workers / 10)+1, n_cols, i+1)\n",
        "    plt.subplots_adjust(wspace=0.5, hspace=0.5)\n",
        "    plt.title('Client {}'.format(i+1))\n",
        "    plt.xlabel('% points')\n",
        "    plt.xlim(xlim)\n",
        "    plt.ylabel('Label')\n",
        "    plt.ylim(ylim)\n",
        "    plt.yticks(yticks, labels=yticks_labels)\n",
        "\n",
        "    # plot values on top of bars\n",
        "    for key in plot_data:\n",
        "        if len(plot_data[key]) > 0:\n",
        "            plt.text(len(plot_data[key])+0.6, int(key)-0.1, str(len(plot_data[key])), ha='center')\n",
        "\n",
        "    for j in range(min(salary_codes),max(salary_codes)+1):\n",
        "        plt.hist(\n",
        "            plot_data[j],\n",
        "            density=False,\n",
        "            bins=[k-0.5 for k in range(min(salary_codes),max(salary_codes)+2)],\n",
        "            orientation='horizontal'\n",
        "        )"
      ]
    },
    {
      "cell_type": "code",
      "execution_count": 42,
      "metadata": {
        "id": "dG_Qub7SHA0M"
      },
      "outputs": [],
      "source": [
        "def model_fn():\n",
        "    model = tf.keras.models.Sequential([\n",
        "        tf.keras.layers.InputLayer(input_shape=(input_shape,)),\n",
        "        tf.keras.layers.Dense(10, activation='relu'),\n",
        "        tf.keras.layers.Dense(1, kernel_initializer='zeros', activation='sigmoid')\n",
        "    ])\n",
        "    return tff.learning.models.from_keras_model(model,\n",
        "        input_spec=collections.OrderedDict(\n",
        "            x=tf.TensorSpec(shape=[None, input_shape], dtype=tf.float64),\n",
        "            y=tf.TensorSpec(shape=[None, 1], dtype=tf.int64)),\n",
        "        loss=tf.keras.losses.BinaryCrossentropy(from_logits=True),\n",
        "        metrics=[tf.keras.metrics.BinaryAccuracy()])\n",
        "\n",
        "trainer = tff.learning.algorithms.build_weighted_fed_avg(\n",
        "    model_fn,\n",
        "    client_optimizer_fn=lambda: tf.keras.optimizers.SGD(learning_rate=0.01),\n",
        "    server_optimizer_fn=lambda: tf.keras.optimizers.SGD(learning_rate=1.0)\n",
        ")\n",
        "\n",
        "def DP_model_fn():\n",
        "    dp_model = tfp.DPSequential(\n",
        "        l2_norm_clip=l2_norm_clip,\n",
        "        noise_multiplier=noise_multiplier\n",
        "    )\n",
        "    dp_model.add(tf.keras.layers.InputLayer(input_shape=(input_shape,)))\n",
        "    dp_model.add(tf.keras.layers.Dense(10, activation='relu'))\n",
        "    dp_model.add(tf.keras.layers.Dense(1, kernel_initializer='zeros', activation='sigmoid'))\n",
        "\n",
        "    return tff.learning.models.from_keras_model(\n",
        "        keras_model=dp_model,\n",
        "        input_spec=collections.OrderedDict(\n",
        "            x=tf.TensorSpec(shape=[None, input_shape], dtype=tf.float64),\n",
        "            y=tf.TensorSpec(shape=[None, 1], dtype=tf.int64)),\n",
        "        loss=tf.keras.losses.BinaryCrossentropy(from_logits=True),\n",
        "        metrics=[tf.keras.metrics.BinaryAccuracy()]\n",
        "    )\n",
        "\n",
        "DP_trainer = tff.learning.algorithms.build_weighted_fed_avg(\n",
        "    DP_model_fn,\n",
        "    client_optimizer_fn=lambda: tf.keras.optimizers.SGD(learning_rate=0.01),\n",
        "    server_optimizer_fn=lambda: tf.keras.optimizers.SGD(learning_rate=1.0)\n",
        ")"
      ]
    },
    {
      "cell_type": "code",
      "execution_count": 43,
      "metadata": {
        "colab": {
          "base_uri": "https://localhost:8080/"
        },
        "id": "r2VAsdq-K9vg",
        "outputId": "dc14b056-2be2-4ced-b02e-fd82228a9591"
      },
      "outputs": [
        {
          "name": "stdout",
          "output_type": "stream",
          "text": [
            "( -> <\n",
            "  global_model_weights=<\n",
            "    trainable=<\n",
            "      float32[91,10],\n",
            "      float32[10],\n",
            "      float32[10,1],\n",
            "      float32[1]\n",
            "    >,\n",
            "    non_trainable=<>\n",
            "  >,\n",
            "  distributor=<>,\n",
            "  client_work=<>,\n",
            "  aggregator=<\n",
            "    value_sum_process=<>,\n",
            "    weight_sum_process=<>\n",
            "  >,\n",
            "  finalizer=<\n",
            "    int64,\n",
            "    float32[91,10],\n",
            "    float32[10],\n",
            "    float32[10,1],\n",
            "    float32[1]\n",
            "  >\n",
            ">@SERVER)\n"
          ]
        }
      ],
      "source": [
        "print(trainer.initialize.type_signature.formatted_representation())"
      ]
    },
    {
      "cell_type": "code",
      "execution_count": 44,
      "metadata": {
        "colab": {
          "base_uri": "https://localhost:8080/"
        },
        "id": "hX9vpezUrDPs",
        "outputId": "fc0811fd-6787-42c1-e534-28f8e27d9728"
      },
      "outputs": [
        {
          "name": "stdout",
          "output_type": "stream",
          "text": [
            "( -> <\n",
            "  global_model_weights=<\n",
            "    trainable=<\n",
            "      float32[91,10],\n",
            "      float32[10],\n",
            "      float32[10,1],\n",
            "      float32[1]\n",
            "    >,\n",
            "    non_trainable=<>\n",
            "  >,\n",
            "  distributor=<>,\n",
            "  client_work=<>,\n",
            "  aggregator=<\n",
            "    value_sum_process=<>,\n",
            "    weight_sum_process=<>\n",
            "  >,\n",
            "  finalizer=<\n",
            "    int64,\n",
            "    float32[91,10],\n",
            "    float32[10],\n",
            "    float32[10,1],\n",
            "    float32[1]\n",
            "  >\n",
            ">@SERVER)\n"
          ]
        }
      ],
      "source": [
        "print(DP_trainer.initialize.type_signature.formatted_representation())"
      ]
    },
    {
      "cell_type": "code",
      "execution_count": 45,
      "metadata": {
        "id": "-Xs1F6svqO_S"
      },
      "outputs": [],
      "source": [
        "def evaluate(NUM_ROUNDS = 20):\n",
        "  train_state = trainer.initialize()\n",
        "  for round_num in range(NUM_ROUNDS):\n",
        "    result = trainer.next(train_state, client_data)\n",
        "    train_state = result.state\n",
        "    train_metrics = result.metrics\n",
        "    print('Round {:2d}, binary_accuracy: {}, loss: {}'.format(\n",
        "              round_num+1, train_metrics['client_work']['train']['binary_accuracy'], train_metrics['client_work']['train']['loss']))"
      ]
    },
    {
      "cell_type": "code",
      "execution_count": 46,
      "metadata": {
        "id": "vw51hVKf9pMZ"
      },
      "outputs": [],
      "source": [
        "def RW_evaluate(NUM_ROUNDS = 20):\n",
        "  train_state = trainer.initialize()\n",
        "  for round_num in range(NUM_ROUNDS):\n",
        "    result = trainer.next(train_state, RW_client_data)\n",
        "    train_state = result.state\n",
        "    train_metrics = result.metrics\n",
        "    print('Round {:2d}, binary_accuracy: {}, loss: {}'.format(\n",
        "              round_num+1, train_metrics['client_work']['train']['binary_accuracy'], train_metrics['client_work']['train']['loss']))"
      ]
    },
    {
      "cell_type": "code",
      "execution_count": 47,
      "metadata": {
        "id": "I4TRP5ZILUAF"
      },
      "outputs": [],
      "source": [
        "def DP_evaluate(NUM_ROUNDS = 20):\n",
        "  train_state = DP_trainer.initialize()\n",
        "  for round_num in range(NUM_ROUNDS):\n",
        "    result = DP_trainer.next(train_state, client_data)\n",
        "    train_state = result.state\n",
        "    train_metrics = result.metrics\n",
        "    # Compute privacy spent for this round\n",
        "    # Privacy Analysis\n",
        "    n = 32561\n",
        "    epochs = round_num+1\n",
        "    delta = 1e-5\n",
        "\n",
        "    epsilon = tfp.compute_dp_sgd_privacy(\n",
        "        n=n,\n",
        "        batch_size=batch_size,\n",
        "        noise_multiplier=noise_multiplier,\n",
        "        epochs=epochs,\n",
        "        delta=delta\n",
        "    )\n",
        "    print('Round {:2d}, binary_accuracy: {}, loss: {}, epsilon: {}, delta: {}'.format(\n",
        "              round_num+1, train_metrics['client_work']['train']['binary_accuracy'], train_metrics['client_work']['train']['loss'], epsilon[0], delta))"
      ]
    },
    {
      "cell_type": "code",
      "execution_count": 48,
      "metadata": {
        "id": "0q-8G8hS_lEz"
      },
      "outputs": [],
      "source": [
        "def RW_DP_evaluate(NUM_ROUNDS = 20):\n",
        "  train_state = DP_trainer.initialize()\n",
        "  for round_num in range(NUM_ROUNDS):\n",
        "    result = DP_trainer.next(train_state, RW_client_data)\n",
        "    train_state = result.state\n",
        "    train_metrics = result.metrics\n",
        "    # Compute privacy spent for this round\n",
        "    # Privacy Analysis\n",
        "    n = 32561\n",
        "    epochs = round_num+1\n",
        "    delta = 1e-5\n",
        "\n",
        "    epsilon = tfp.compute_dp_sgd_privacy(\n",
        "        n=n,\n",
        "        batch_size=batch_size,\n",
        "        noise_multiplier=noise_multiplier,\n",
        "        epochs=epochs,\n",
        "        delta=delta\n",
        "    )\n",
        "    print('Round {:2d}, binary_accuracy: {}, loss: {}, epsilon: {}, delta: {}'.format(\n",
        "              round_num+1, train_metrics['client_work']['train']['binary_accuracy'], train_metrics['client_work']['train']['loss'], epsilon[0], delta))"
      ]
    },
    {
      "cell_type": "code",
      "execution_count": 49,
      "metadata": {
        "colab": {
          "base_uri": "https://localhost:8080/"
        },
        "id": "lgGi6L7PM6ST",
        "outputId": "1eb38291-ba08-4a17-e6b4-0267bf794059"
      },
      "outputs": [
        {
          "name": "stdout",
          "output_type": "stream",
          "text": [
            "Round  1, binary_accuracy: 0.7591904401779175, loss: 0.7157203555107117\n",
            "Round  2, binary_accuracy: 0.7591904401779175, loss: 0.6931336522102356\n",
            "Round  3, binary_accuracy: 0.7591904401779175, loss: 0.6931336522102356\n",
            "Round  4, binary_accuracy: 0.7591904401779175, loss: 0.6931336522102356\n",
            "Round  5, binary_accuracy: 0.7591904401779175, loss: 0.6931336522102356\n",
            "Round  6, binary_accuracy: 0.7591904401779175, loss: 0.6931336522102356\n",
            "Round  7, binary_accuracy: 0.7591904401779175, loss: 0.6931336522102356\n",
            "Round  8, binary_accuracy: 0.7591904401779175, loss: 0.6931336522102356\n",
            "Round  9, binary_accuracy: 0.7591904401779175, loss: 0.6931336522102356\n",
            "Round 10, binary_accuracy: 0.7591904401779175, loss: 0.6931336522102356\n",
            "Round 11, binary_accuracy: 0.7591904401779175, loss: 0.6931336522102356\n",
            "Round 12, binary_accuracy: 0.7591904401779175, loss: 0.6931336522102356\n",
            "Round 13, binary_accuracy: 0.7591904401779175, loss: 0.6931336522102356\n",
            "Round 14, binary_accuracy: 0.7591904401779175, loss: 0.6931336522102356\n",
            "Round 15, binary_accuracy: 0.7591904401779175, loss: 0.6931336522102356\n",
            "Round 16, binary_accuracy: 0.7591904401779175, loss: 0.6931336522102356\n",
            "Round 17, binary_accuracy: 0.7591904401779175, loss: 0.6931336522102356\n",
            "Round 18, binary_accuracy: 0.7591904401779175, loss: 0.6931336522102356\n",
            "Round 19, binary_accuracy: 0.7591904401779175, loss: 0.6931336522102356\n",
            "Round 20, binary_accuracy: 0.7591904401779175, loss: 0.6931336522102356\n"
          ]
        }
      ],
      "source": [
        "evaluate()"
      ]
    },
    {
      "cell_type": "code",
      "execution_count": 50,
      "metadata": {
        "colab": {
          "base_uri": "https://localhost:8080/"
        },
        "id": "Lf-v30_5989Y",
        "outputId": "eee0ef16-484e-4eb7-a458-89b5ca44b372"
      },
      "outputs": [
        {
          "name": "stdout",
          "output_type": "stream",
          "text": [
            "Round  1, binary_accuracy: 0.7591904401779175, loss: 0.71571284532547\n",
            "Round  2, binary_accuracy: 0.7591904401779175, loss: 0.6931336522102356\n",
            "Round  3, binary_accuracy: 0.7591904401779175, loss: 0.6931336522102356\n",
            "Round  4, binary_accuracy: 0.7591904401779175, loss: 0.6931336522102356\n",
            "Round  5, binary_accuracy: 0.7591904401779175, loss: 0.6931336522102356\n",
            "Round  6, binary_accuracy: 0.7591904401779175, loss: 0.6931336522102356\n",
            "Round  7, binary_accuracy: 0.7591904401779175, loss: 0.6931336522102356\n",
            "Round  8, binary_accuracy: 0.7591904401779175, loss: 0.6931336522102356\n",
            "Round  9, binary_accuracy: 0.7591904401779175, loss: 0.6931336522102356\n",
            "Round 10, binary_accuracy: 0.7591904401779175, loss: 0.6931336522102356\n",
            "Round 11, binary_accuracy: 0.7591904401779175, loss: 0.6931336522102356\n",
            "Round 12, binary_accuracy: 0.7591904401779175, loss: 0.6931336522102356\n",
            "Round 13, binary_accuracy: 0.7591904401779175, loss: 0.6931336522102356\n",
            "Round 14, binary_accuracy: 0.7591904401779175, loss: 0.6931336522102356\n",
            "Round 15, binary_accuracy: 0.7591904401779175, loss: 0.6931336522102356\n",
            "Round 16, binary_accuracy: 0.7591904401779175, loss: 0.6931336522102356\n",
            "Round 17, binary_accuracy: 0.7591904401779175, loss: 0.6931336522102356\n",
            "Round 18, binary_accuracy: 0.7591904401779175, loss: 0.6931336522102356\n",
            "Round 19, binary_accuracy: 0.7591904401779175, loss: 0.6931336522102356\n",
            "Round 20, binary_accuracy: 0.7591904401779175, loss: 0.6931336522102356\n"
          ]
        }
      ],
      "source": [
        "RW_evaluate()"
      ]
    },
    {
      "cell_type": "code",
      "execution_count": 51,
      "metadata": {
        "colab": {
          "base_uri": "https://localhost:8080/"
        },
        "id": "NHXBxQayr4h7",
        "outputId": "7e369d93-7187-4609-a8ca-d724d8fb5b1a"
      },
      "outputs": [
        {
          "name": "stderr",
          "output_type": "stream",
          "text": [
            "WARNING:absl:`compute_dp_sgd_privacy` is deprecated. It does not account for doubling of sensitivity with microbatching, and assumes Poisson subsampling, which is rarely used in practice. Please use `compute_dp_sgd_privacy_statement`, which provides appropriate context for the guarantee. To compute epsilon under different assumptions than those in `compute_dp_sgd_privacy_statement`, call the `dp_accounting` libraries directly.\n"
          ]
        },
        {
          "name": "stdout",
          "output_type": "stream",
          "text": [
            "Round  1, binary_accuracy: 0.7591904401779175, loss: 0.7104663848876953, epsilon: 0.3275598175608667, delta: 1e-05\n"
          ]
        },
        {
          "name": "stderr",
          "output_type": "stream",
          "text": [
            "WARNING:absl:`compute_dp_sgd_privacy` is deprecated. It does not account for doubling of sensitivity with microbatching, and assumes Poisson subsampling, which is rarely used in practice. Please use `compute_dp_sgd_privacy_statement`, which provides appropriate context for the guarantee. To compute epsilon under different assumptions than those in `compute_dp_sgd_privacy_statement`, call the `dp_accounting` libraries directly.\n"
          ]
        },
        {
          "name": "stdout",
          "output_type": "stream",
          "text": [
            "Round  2, binary_accuracy: 0.7591904401779175, loss: 0.6931336522102356, epsilon: 0.35035622797107074, delta: 1e-05\n"
          ]
        },
        {
          "name": "stderr",
          "output_type": "stream",
          "text": [
            "WARNING:absl:`compute_dp_sgd_privacy` is deprecated. It does not account for doubling of sensitivity with microbatching, and assumes Poisson subsampling, which is rarely used in practice. Please use `compute_dp_sgd_privacy_statement`, which provides appropriate context for the guarantee. To compute epsilon under different assumptions than those in `compute_dp_sgd_privacy_statement`, call the `dp_accounting` libraries directly.\n"
          ]
        },
        {
          "name": "stdout",
          "output_type": "stream",
          "text": [
            "Round  3, binary_accuracy: 0.7591904401779175, loss: 0.6931336522102356, epsilon: 0.3730827107419797, delta: 1e-05\n"
          ]
        },
        {
          "name": "stderr",
          "output_type": "stream",
          "text": [
            "WARNING:absl:`compute_dp_sgd_privacy` is deprecated. It does not account for doubling of sensitivity with microbatching, and assumes Poisson subsampling, which is rarely used in practice. Please use `compute_dp_sgd_privacy_statement`, which provides appropriate context for the guarantee. To compute epsilon under different assumptions than those in `compute_dp_sgd_privacy_statement`, call the `dp_accounting` libraries directly.\n"
          ]
        },
        {
          "name": "stdout",
          "output_type": "stream",
          "text": [
            "Round  4, binary_accuracy: 0.7591904401779175, loss: 0.6931336522102356, epsilon: 0.3958791211521837, delta: 1e-05\n"
          ]
        },
        {
          "name": "stderr",
          "output_type": "stream",
          "text": [
            "WARNING:absl:`compute_dp_sgd_privacy` is deprecated. It does not account for doubling of sensitivity with microbatching, and assumes Poisson subsampling, which is rarely used in practice. Please use `compute_dp_sgd_privacy_statement`, which provides appropriate context for the guarantee. To compute epsilon under different assumptions than those in `compute_dp_sgd_privacy_statement`, call the `dp_accounting` libraries directly.\n"
          ]
        },
        {
          "name": "stdout",
          "output_type": "stream",
          "text": [
            "Round  5, binary_accuracy: 0.7591904401779175, loss: 0.6931336522102356, epsilon: 0.41867553156238774, delta: 1e-05\n"
          ]
        },
        {
          "name": "stderr",
          "output_type": "stream",
          "text": [
            "WARNING:absl:`compute_dp_sgd_privacy` is deprecated. It does not account for doubling of sensitivity with microbatching, and assumes Poisson subsampling, which is rarely used in practice. Please use `compute_dp_sgd_privacy_statement`, which provides appropriate context for the guarantee. To compute epsilon under different assumptions than those in `compute_dp_sgd_privacy_statement`, call the `dp_accounting` libraries directly.\n"
          ]
        },
        {
          "name": "stdout",
          "output_type": "stream",
          "text": [
            "Round  6, binary_accuracy: 0.7591904401779175, loss: 0.6931336522102356, epsilon: 0.4414020143332966, delta: 1e-05\n"
          ]
        },
        {
          "name": "stderr",
          "output_type": "stream",
          "text": [
            "WARNING:absl:`compute_dp_sgd_privacy` is deprecated. It does not account for doubling of sensitivity with microbatching, and assumes Poisson subsampling, which is rarely used in practice. Please use `compute_dp_sgd_privacy_statement`, which provides appropriate context for the guarantee. To compute epsilon under different assumptions than those in `compute_dp_sgd_privacy_statement`, call the `dp_accounting` libraries directly.\n"
          ]
        },
        {
          "name": "stdout",
          "output_type": "stream",
          "text": [
            "Round  7, binary_accuracy: 0.7591904401779175, loss: 0.6931336522102356, epsilon: 0.46419842474350065, delta: 1e-05\n"
          ]
        },
        {
          "name": "stderr",
          "output_type": "stream",
          "text": [
            "WARNING:absl:`compute_dp_sgd_privacy` is deprecated. It does not account for doubling of sensitivity with microbatching, and assumes Poisson subsampling, which is rarely used in practice. Please use `compute_dp_sgd_privacy_statement`, which provides appropriate context for the guarantee. To compute epsilon under different assumptions than those in `compute_dp_sgd_privacy_statement`, call the `dp_accounting` libraries directly.\n"
          ]
        },
        {
          "name": "stdout",
          "output_type": "stream",
          "text": [
            "Round  8, binary_accuracy: 0.7591904401779175, loss: 0.6931336522102356, epsilon: 0.4869249075144096, delta: 1e-05\n"
          ]
        },
        {
          "name": "stderr",
          "output_type": "stream",
          "text": [
            "WARNING:absl:`compute_dp_sgd_privacy` is deprecated. It does not account for doubling of sensitivity with microbatching, and assumes Poisson subsampling, which is rarely used in practice. Please use `compute_dp_sgd_privacy_statement`, which provides appropriate context for the guarantee. To compute epsilon under different assumptions than those in `compute_dp_sgd_privacy_statement`, call the `dp_accounting` libraries directly.\n"
          ]
        },
        {
          "name": "stdout",
          "output_type": "stream",
          "text": [
            "Round  9, binary_accuracy: 0.7591904401779175, loss: 0.6931336522102356, epsilon: 0.5097213179246136, delta: 1e-05\n"
          ]
        },
        {
          "name": "stderr",
          "output_type": "stream",
          "text": [
            "WARNING:absl:`compute_dp_sgd_privacy` is deprecated. It does not account for doubling of sensitivity with microbatching, and assumes Poisson subsampling, which is rarely used in practice. Please use `compute_dp_sgd_privacy_statement`, which provides appropriate context for the guarantee. To compute epsilon under different assumptions than those in `compute_dp_sgd_privacy_statement`, call the `dp_accounting` libraries directly.\n"
          ]
        },
        {
          "name": "stdout",
          "output_type": "stream",
          "text": [
            "Round 10, binary_accuracy: 0.7591904401779175, loss: 0.6931336522102356, epsilon: 0.5325177283348177, delta: 1e-05\n"
          ]
        },
        {
          "name": "stderr",
          "output_type": "stream",
          "text": [
            "WARNING:absl:`compute_dp_sgd_privacy` is deprecated. It does not account for doubling of sensitivity with microbatching, and assumes Poisson subsampling, which is rarely used in practice. Please use `compute_dp_sgd_privacy_statement`, which provides appropriate context for the guarantee. To compute epsilon under different assumptions than those in `compute_dp_sgd_privacy_statement`, call the `dp_accounting` libraries directly.\n"
          ]
        },
        {
          "name": "stdout",
          "output_type": "stream",
          "text": [
            "Round 11, binary_accuracy: 0.7591904401779175, loss: 0.6931336522102356, epsilon: 0.5552442111057265, delta: 1e-05\n"
          ]
        },
        {
          "name": "stderr",
          "output_type": "stream",
          "text": [
            "WARNING:absl:`compute_dp_sgd_privacy` is deprecated. It does not account for doubling of sensitivity with microbatching, and assumes Poisson subsampling, which is rarely used in practice. Please use `compute_dp_sgd_privacy_statement`, which provides appropriate context for the guarantee. To compute epsilon under different assumptions than those in `compute_dp_sgd_privacy_statement`, call the `dp_accounting` libraries directly.\n"
          ]
        },
        {
          "name": "stdout",
          "output_type": "stream",
          "text": [
            "Round 12, binary_accuracy: 0.7591904401779175, loss: 0.6931336522102356, epsilon: 0.5780406215159306, delta: 1e-05\n"
          ]
        },
        {
          "name": "stderr",
          "output_type": "stream",
          "text": [
            "WARNING:absl:`compute_dp_sgd_privacy` is deprecated. It does not account for doubling of sensitivity with microbatching, and assumes Poisson subsampling, which is rarely used in practice. Please use `compute_dp_sgd_privacy_statement`, which provides appropriate context for the guarantee. To compute epsilon under different assumptions than those in `compute_dp_sgd_privacy_statement`, call the `dp_accounting` libraries directly.\n"
          ]
        },
        {
          "name": "stdout",
          "output_type": "stream",
          "text": [
            "Round 13, binary_accuracy: 0.7591904401779175, loss: 0.6931336522102356, epsilon: 0.6007671042868394, delta: 1e-05\n"
          ]
        },
        {
          "name": "stderr",
          "output_type": "stream",
          "text": [
            "WARNING:absl:`compute_dp_sgd_privacy` is deprecated. It does not account for doubling of sensitivity with microbatching, and assumes Poisson subsampling, which is rarely used in practice. Please use `compute_dp_sgd_privacy_statement`, which provides appropriate context for the guarantee. To compute epsilon under different assumptions than those in `compute_dp_sgd_privacy_statement`, call the `dp_accounting` libraries directly.\n"
          ]
        },
        {
          "name": "stdout",
          "output_type": "stream",
          "text": [
            "Round 14, binary_accuracy: 0.7591904401779175, loss: 0.6931336522102356, epsilon: 0.6224918995849434, delta: 1e-05\n"
          ]
        },
        {
          "name": "stderr",
          "output_type": "stream",
          "text": [
            "WARNING:absl:`compute_dp_sgd_privacy` is deprecated. It does not account for doubling of sensitivity with microbatching, and assumes Poisson subsampling, which is rarely used in practice. Please use `compute_dp_sgd_privacy_statement`, which provides appropriate context for the guarantee. To compute epsilon under different assumptions than those in `compute_dp_sgd_privacy_statement`, call the `dp_accounting` libraries directly.\n"
          ]
        },
        {
          "name": "stdout",
          "output_type": "stream",
          "text": [
            "Round 15, binary_accuracy: 0.7591904401779175, loss: 0.6931336522102356, epsilon: 0.6441345948662616, delta: 1e-05\n"
          ]
        },
        {
          "name": "stderr",
          "output_type": "stream",
          "text": [
            "WARNING:absl:`compute_dp_sgd_privacy` is deprecated. It does not account for doubling of sensitivity with microbatching, and assumes Poisson subsampling, which is rarely used in practice. Please use `compute_dp_sgd_privacy_statement`, which provides appropriate context for the guarantee. To compute epsilon under different assumptions than those in `compute_dp_sgd_privacy_statement`, call the `dp_accounting` libraries directly.\n"
          ]
        },
        {
          "name": "stdout",
          "output_type": "stream",
          "text": [
            "Round 16, binary_accuracy: 0.7591904401779175, loss: 0.6931336522102356, epsilon: 0.6657109015117475, delta: 1e-05\n"
          ]
        },
        {
          "name": "stderr",
          "output_type": "stream",
          "text": [
            "WARNING:absl:`compute_dp_sgd_privacy` is deprecated. It does not account for doubling of sensitivity with microbatching, and assumes Poisson subsampling, which is rarely used in practice. Please use `compute_dp_sgd_privacy_statement`, which provides appropriate context for the guarantee. To compute epsilon under different assumptions than those in `compute_dp_sgd_privacy_statement`, call the `dp_accounting` libraries directly.\n"
          ]
        },
        {
          "name": "stdout",
          "output_type": "stream",
          "text": [
            "Round 17, binary_accuracy: 0.7591904401779175, loss: 0.6931336522102356, epsilon: 0.6873535967930655, delta: 1e-05\n"
          ]
        },
        {
          "name": "stderr",
          "output_type": "stream",
          "text": [
            "WARNING:absl:`compute_dp_sgd_privacy` is deprecated. It does not account for doubling of sensitivity with microbatching, and assumes Poisson subsampling, which is rarely used in practice. Please use `compute_dp_sgd_privacy_statement`, which provides appropriate context for the guarantee. To compute epsilon under different assumptions than those in `compute_dp_sgd_privacy_statement`, call the `dp_accounting` libraries directly.\n"
          ]
        },
        {
          "name": "stdout",
          "output_type": "stream",
          "text": [
            "Round 18, binary_accuracy: 0.7591904401779175, loss: 0.6931336522102356, epsilon: 0.7083657946896471, delta: 1e-05\n"
          ]
        },
        {
          "name": "stderr",
          "output_type": "stream",
          "text": [
            "WARNING:absl:`compute_dp_sgd_privacy` is deprecated. It does not account for doubling of sensitivity with microbatching, and assumes Poisson subsampling, which is rarely used in practice. Please use `compute_dp_sgd_privacy_statement`, which provides appropriate context for the guarantee. To compute epsilon under different assumptions than those in `compute_dp_sgd_privacy_statement`, call the `dp_accounting` libraries directly.\n"
          ]
        },
        {
          "name": "stdout",
          "output_type": "stream",
          "text": [
            "Round 19, binary_accuracy: 0.7591904401779175, loss: 0.6931336522102356, epsilon: 0.7290585475047482, delta: 1e-05\n"
          ]
        },
        {
          "name": "stderr",
          "output_type": "stream",
          "text": [
            "WARNING:absl:`compute_dp_sgd_privacy` is deprecated. It does not account for doubling of sensitivity with microbatching, and assumes Poisson subsampling, which is rarely used in practice. Please use `compute_dp_sgd_privacy_statement`, which provides appropriate context for the guarantee. To compute epsilon under different assumptions than those in `compute_dp_sgd_privacy_statement`, call the `dp_accounting` libraries directly.\n"
          ]
        },
        {
          "name": "stdout",
          "output_type": "stream",
          "text": [
            "Round 20, binary_accuracy: 0.7591904401779175, loss: 0.6931336522102356, epsilon: 0.749076361063136, delta: 1e-05\n"
          ]
        }
      ],
      "source": [
        "DP_evaluate()"
      ]
    },
    {
      "cell_type": "code",
      "execution_count": 52,
      "metadata": {
        "colab": {
          "base_uri": "https://localhost:8080/"
        },
        "id": "Is6r1HFA_eHN",
        "outputId": "2721b89e-041c-468c-e725-e98cb613c1b0"
      },
      "outputs": [
        {
          "name": "stderr",
          "output_type": "stream",
          "text": [
            "WARNING:absl:`compute_dp_sgd_privacy` is deprecated. It does not account for doubling of sensitivity with microbatching, and assumes Poisson subsampling, which is rarely used in practice. Please use `compute_dp_sgd_privacy_statement`, which provides appropriate context for the guarantee. To compute epsilon under different assumptions than those in `compute_dp_sgd_privacy_statement`, call the `dp_accounting` libraries directly.\n"
          ]
        },
        {
          "name": "stdout",
          "output_type": "stream",
          "text": [
            "Round  1, binary_accuracy: 0.7591904401779175, loss: 0.7104731798171997, epsilon: 0.3275598175608667, delta: 1e-05\n"
          ]
        },
        {
          "name": "stderr",
          "output_type": "stream",
          "text": [
            "WARNING:absl:`compute_dp_sgd_privacy` is deprecated. It does not account for doubling of sensitivity with microbatching, and assumes Poisson subsampling, which is rarely used in practice. Please use `compute_dp_sgd_privacy_statement`, which provides appropriate context for the guarantee. To compute epsilon under different assumptions than those in `compute_dp_sgd_privacy_statement`, call the `dp_accounting` libraries directly.\n"
          ]
        },
        {
          "name": "stdout",
          "output_type": "stream",
          "text": [
            "Round  2, binary_accuracy: 0.7591904401779175, loss: 0.6931336522102356, epsilon: 0.35035622797107074, delta: 1e-05\n"
          ]
        },
        {
          "name": "stderr",
          "output_type": "stream",
          "text": [
            "WARNING:absl:`compute_dp_sgd_privacy` is deprecated. It does not account for doubling of sensitivity with microbatching, and assumes Poisson subsampling, which is rarely used in practice. Please use `compute_dp_sgd_privacy_statement`, which provides appropriate context for the guarantee. To compute epsilon under different assumptions than those in `compute_dp_sgd_privacy_statement`, call the `dp_accounting` libraries directly.\n"
          ]
        },
        {
          "name": "stdout",
          "output_type": "stream",
          "text": [
            "Round  3, binary_accuracy: 0.7591904401779175, loss: 0.6931336522102356, epsilon: 0.3730827107419797, delta: 1e-05\n"
          ]
        },
        {
          "name": "stderr",
          "output_type": "stream",
          "text": [
            "WARNING:absl:`compute_dp_sgd_privacy` is deprecated. It does not account for doubling of sensitivity with microbatching, and assumes Poisson subsampling, which is rarely used in practice. Please use `compute_dp_sgd_privacy_statement`, which provides appropriate context for the guarantee. To compute epsilon under different assumptions than those in `compute_dp_sgd_privacy_statement`, call the `dp_accounting` libraries directly.\n"
          ]
        },
        {
          "name": "stdout",
          "output_type": "stream",
          "text": [
            "Round  4, binary_accuracy: 0.7591904401779175, loss: 0.6931336522102356, epsilon: 0.3958791211521837, delta: 1e-05\n"
          ]
        },
        {
          "name": "stderr",
          "output_type": "stream",
          "text": [
            "WARNING:absl:`compute_dp_sgd_privacy` is deprecated. It does not account for doubling of sensitivity with microbatching, and assumes Poisson subsampling, which is rarely used in practice. Please use `compute_dp_sgd_privacy_statement`, which provides appropriate context for the guarantee. To compute epsilon under different assumptions than those in `compute_dp_sgd_privacy_statement`, call the `dp_accounting` libraries directly.\n"
          ]
        },
        {
          "name": "stdout",
          "output_type": "stream",
          "text": [
            "Round  5, binary_accuracy: 0.7591904401779175, loss: 0.6931336522102356, epsilon: 0.41867553156238774, delta: 1e-05\n"
          ]
        },
        {
          "name": "stderr",
          "output_type": "stream",
          "text": [
            "WARNING:absl:`compute_dp_sgd_privacy` is deprecated. It does not account for doubling of sensitivity with microbatching, and assumes Poisson subsampling, which is rarely used in practice. Please use `compute_dp_sgd_privacy_statement`, which provides appropriate context for the guarantee. To compute epsilon under different assumptions than those in `compute_dp_sgd_privacy_statement`, call the `dp_accounting` libraries directly.\n"
          ]
        },
        {
          "name": "stdout",
          "output_type": "stream",
          "text": [
            "Round  6, binary_accuracy: 0.7591904401779175, loss: 0.6931336522102356, epsilon: 0.4414020143332966, delta: 1e-05\n"
          ]
        },
        {
          "name": "stderr",
          "output_type": "stream",
          "text": [
            "WARNING:absl:`compute_dp_sgd_privacy` is deprecated. It does not account for doubling of sensitivity with microbatching, and assumes Poisson subsampling, which is rarely used in practice. Please use `compute_dp_sgd_privacy_statement`, which provides appropriate context for the guarantee. To compute epsilon under different assumptions than those in `compute_dp_sgd_privacy_statement`, call the `dp_accounting` libraries directly.\n"
          ]
        },
        {
          "name": "stdout",
          "output_type": "stream",
          "text": [
            "Round  7, binary_accuracy: 0.7591904401779175, loss: 0.6931336522102356, epsilon: 0.46419842474350065, delta: 1e-05\n"
          ]
        },
        {
          "name": "stderr",
          "output_type": "stream",
          "text": [
            "WARNING:absl:`compute_dp_sgd_privacy` is deprecated. It does not account for doubling of sensitivity with microbatching, and assumes Poisson subsampling, which is rarely used in practice. Please use `compute_dp_sgd_privacy_statement`, which provides appropriate context for the guarantee. To compute epsilon under different assumptions than those in `compute_dp_sgd_privacy_statement`, call the `dp_accounting` libraries directly.\n"
          ]
        },
        {
          "name": "stdout",
          "output_type": "stream",
          "text": [
            "Round  8, binary_accuracy: 0.7591904401779175, loss: 0.6931336522102356, epsilon: 0.4869249075144096, delta: 1e-05\n"
          ]
        },
        {
          "name": "stderr",
          "output_type": "stream",
          "text": [
            "WARNING:absl:`compute_dp_sgd_privacy` is deprecated. It does not account for doubling of sensitivity with microbatching, and assumes Poisson subsampling, which is rarely used in practice. Please use `compute_dp_sgd_privacy_statement`, which provides appropriate context for the guarantee. To compute epsilon under different assumptions than those in `compute_dp_sgd_privacy_statement`, call the `dp_accounting` libraries directly.\n"
          ]
        },
        {
          "name": "stdout",
          "output_type": "stream",
          "text": [
            "Round  9, binary_accuracy: 0.7591904401779175, loss: 0.6931336522102356, epsilon: 0.5097213179246136, delta: 1e-05\n"
          ]
        },
        {
          "name": "stderr",
          "output_type": "stream",
          "text": [
            "WARNING:absl:`compute_dp_sgd_privacy` is deprecated. It does not account for doubling of sensitivity with microbatching, and assumes Poisson subsampling, which is rarely used in practice. Please use `compute_dp_sgd_privacy_statement`, which provides appropriate context for the guarantee. To compute epsilon under different assumptions than those in `compute_dp_sgd_privacy_statement`, call the `dp_accounting` libraries directly.\n"
          ]
        },
        {
          "name": "stdout",
          "output_type": "stream",
          "text": [
            "Round 10, binary_accuracy: 0.7591904401779175, loss: 0.6931336522102356, epsilon: 0.5325177283348177, delta: 1e-05\n"
          ]
        },
        {
          "name": "stderr",
          "output_type": "stream",
          "text": [
            "WARNING:absl:`compute_dp_sgd_privacy` is deprecated. It does not account for doubling of sensitivity with microbatching, and assumes Poisson subsampling, which is rarely used in practice. Please use `compute_dp_sgd_privacy_statement`, which provides appropriate context for the guarantee. To compute epsilon under different assumptions than those in `compute_dp_sgd_privacy_statement`, call the `dp_accounting` libraries directly.\n"
          ]
        },
        {
          "name": "stdout",
          "output_type": "stream",
          "text": [
            "Round 11, binary_accuracy: 0.7591904401779175, loss: 0.6931336522102356, epsilon: 0.5552442111057265, delta: 1e-05\n"
          ]
        },
        {
          "name": "stderr",
          "output_type": "stream",
          "text": [
            "WARNING:absl:`compute_dp_sgd_privacy` is deprecated. It does not account for doubling of sensitivity with microbatching, and assumes Poisson subsampling, which is rarely used in practice. Please use `compute_dp_sgd_privacy_statement`, which provides appropriate context for the guarantee. To compute epsilon under different assumptions than those in `compute_dp_sgd_privacy_statement`, call the `dp_accounting` libraries directly.\n"
          ]
        },
        {
          "name": "stdout",
          "output_type": "stream",
          "text": [
            "Round 12, binary_accuracy: 0.7591904401779175, loss: 0.6931336522102356, epsilon: 0.5780406215159306, delta: 1e-05\n"
          ]
        },
        {
          "name": "stderr",
          "output_type": "stream",
          "text": [
            "WARNING:absl:`compute_dp_sgd_privacy` is deprecated. It does not account for doubling of sensitivity with microbatching, and assumes Poisson subsampling, which is rarely used in practice. Please use `compute_dp_sgd_privacy_statement`, which provides appropriate context for the guarantee. To compute epsilon under different assumptions than those in `compute_dp_sgd_privacy_statement`, call the `dp_accounting` libraries directly.\n"
          ]
        },
        {
          "name": "stdout",
          "output_type": "stream",
          "text": [
            "Round 13, binary_accuracy: 0.7591904401779175, loss: 0.6931336522102356, epsilon: 0.6007671042868394, delta: 1e-05\n"
          ]
        },
        {
          "name": "stderr",
          "output_type": "stream",
          "text": [
            "WARNING:absl:`compute_dp_sgd_privacy` is deprecated. It does not account for doubling of sensitivity with microbatching, and assumes Poisson subsampling, which is rarely used in practice. Please use `compute_dp_sgd_privacy_statement`, which provides appropriate context for the guarantee. To compute epsilon under different assumptions than those in `compute_dp_sgd_privacy_statement`, call the `dp_accounting` libraries directly.\n"
          ]
        },
        {
          "name": "stdout",
          "output_type": "stream",
          "text": [
            "Round 14, binary_accuracy: 0.7591904401779175, loss: 0.6931336522102356, epsilon: 0.6224918995849434, delta: 1e-05\n"
          ]
        },
        {
          "name": "stderr",
          "output_type": "stream",
          "text": [
            "WARNING:absl:`compute_dp_sgd_privacy` is deprecated. It does not account for doubling of sensitivity with microbatching, and assumes Poisson subsampling, which is rarely used in practice. Please use `compute_dp_sgd_privacy_statement`, which provides appropriate context for the guarantee. To compute epsilon under different assumptions than those in `compute_dp_sgd_privacy_statement`, call the `dp_accounting` libraries directly.\n"
          ]
        },
        {
          "name": "stdout",
          "output_type": "stream",
          "text": [
            "Round 15, binary_accuracy: 0.7591904401779175, loss: 0.6931336522102356, epsilon: 0.6441345948662616, delta: 1e-05\n"
          ]
        },
        {
          "name": "stderr",
          "output_type": "stream",
          "text": [
            "WARNING:absl:`compute_dp_sgd_privacy` is deprecated. It does not account for doubling of sensitivity with microbatching, and assumes Poisson subsampling, which is rarely used in practice. Please use `compute_dp_sgd_privacy_statement`, which provides appropriate context for the guarantee. To compute epsilon under different assumptions than those in `compute_dp_sgd_privacy_statement`, call the `dp_accounting` libraries directly.\n"
          ]
        },
        {
          "name": "stdout",
          "output_type": "stream",
          "text": [
            "Round 16, binary_accuracy: 0.7591904401779175, loss: 0.6931336522102356, epsilon: 0.6657109015117475, delta: 1e-05\n"
          ]
        },
        {
          "name": "stderr",
          "output_type": "stream",
          "text": [
            "WARNING:absl:`compute_dp_sgd_privacy` is deprecated. It does not account for doubling of sensitivity with microbatching, and assumes Poisson subsampling, which is rarely used in practice. Please use `compute_dp_sgd_privacy_statement`, which provides appropriate context for the guarantee. To compute epsilon under different assumptions than those in `compute_dp_sgd_privacy_statement`, call the `dp_accounting` libraries directly.\n"
          ]
        },
        {
          "name": "stdout",
          "output_type": "stream",
          "text": [
            "Round 17, binary_accuracy: 0.7591904401779175, loss: 0.6931336522102356, epsilon: 0.6873535967930655, delta: 1e-05\n"
          ]
        },
        {
          "name": "stderr",
          "output_type": "stream",
          "text": [
            "WARNING:absl:`compute_dp_sgd_privacy` is deprecated. It does not account for doubling of sensitivity with microbatching, and assumes Poisson subsampling, which is rarely used in practice. Please use `compute_dp_sgd_privacy_statement`, which provides appropriate context for the guarantee. To compute epsilon under different assumptions than those in `compute_dp_sgd_privacy_statement`, call the `dp_accounting` libraries directly.\n"
          ]
        },
        {
          "name": "stdout",
          "output_type": "stream",
          "text": [
            "Round 18, binary_accuracy: 0.7591904401779175, loss: 0.6931336522102356, epsilon: 0.7083657946896471, delta: 1e-05\n"
          ]
        },
        {
          "name": "stderr",
          "output_type": "stream",
          "text": [
            "WARNING:absl:`compute_dp_sgd_privacy` is deprecated. It does not account for doubling of sensitivity with microbatching, and assumes Poisson subsampling, which is rarely used in practice. Please use `compute_dp_sgd_privacy_statement`, which provides appropriate context for the guarantee. To compute epsilon under different assumptions than those in `compute_dp_sgd_privacy_statement`, call the `dp_accounting` libraries directly.\n"
          ]
        },
        {
          "name": "stdout",
          "output_type": "stream",
          "text": [
            "Round 19, binary_accuracy: 0.7591904401779175, loss: 0.6931336522102356, epsilon: 0.7290585475047482, delta: 1e-05\n"
          ]
        },
        {
          "name": "stderr",
          "output_type": "stream",
          "text": [
            "WARNING:absl:`compute_dp_sgd_privacy` is deprecated. It does not account for doubling of sensitivity with microbatching, and assumes Poisson subsampling, which is rarely used in practice. Please use `compute_dp_sgd_privacy_statement`, which provides appropriate context for the guarantee. To compute epsilon under different assumptions than those in `compute_dp_sgd_privacy_statement`, call the `dp_accounting` libraries directly.\n"
          ]
        },
        {
          "name": "stdout",
          "output_type": "stream",
          "text": [
            "Round 20, binary_accuracy: 0.7591904401779175, loss: 0.6931336522102356, epsilon: 0.749076361063136, delta: 1e-05\n"
          ]
        }
      ],
      "source": [
        "RW_DP_evaluate()"
      ]
    }
  ],
  "metadata": {
    "colab": {
      "provenance": []
    },
    "kernelspec": {
      "display_name": "Python 3",
      "name": "python3"
    },
    "language_info": {
      "name": "python"
    }
  },
  "nbformat": 4,
  "nbformat_minor": 0
}
